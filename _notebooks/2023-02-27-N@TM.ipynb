{
 "cells": [
  {
   "cell_type": "markdown",
   "metadata": {},
   "source": [
    "# Night At The Museum Notes\n",
    "\n",
    "- - -\n",
    "- title: Night At The Museum Notes\n",
    "- toc: true\n",
    "- comments: true\n",
    "- categories: [Blog]\n",
    "- - -"
   ]
  },
  {
   "cell_type": "markdown",
   "metadata": {},
   "source": [
    "## Notes\n",
    "- I think that Night at the Museum was a success. \n",
    "- People said that the project me and my group created was very cool.\n",
    "- The only thing I have that could make Night at the Museum better is that maybe find bigger space for the csp room because the room gets very crowded and sometimes its hard to here the presenter or get around the room to new projects.\n",
    "- My favorite part of Night at the Museum was the ceramics area.\n",
    "- I saw lots of very cool pottery like a cool watermelon painted small bowl, a small teapot, and much more.\n",
    "- In photo, I saw a picter by Luke Starr that looked very amazing. He used the lighting of the building to make it the focus of the picture and used the water to create a astonishing relfection of the building and its beautiful lights."
   ]
  },
  {
   "cell_type": "markdown",
   "metadata": {},
   "source": [
    "- I have images they won't upload for some reason so I can show you them in class"
   ]
  }
 ],
 "metadata": {
  "kernelspec": {
   "display_name": "Python 3.9.12 ('base')",
   "language": "python",
   "name": "python3"
  },
  "language_info": {
   "name": "python",
   "version": "3.9.12"
  },
  "orig_nbformat": 4,
  "vscode": {
   "interpreter": {
    "hash": "9cd25c986c26e5b1c74a16b57d6ca17d05a872cdbfdbd78f1e395c74d1eb1581"
   }
  }
 },
 "nbformat": 4,
 "nbformat_minor": 2
}
