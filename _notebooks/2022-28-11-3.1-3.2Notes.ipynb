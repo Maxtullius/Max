{
 "cells": [
  {
   "cell_type": "markdown",
   "metadata": {},
   "source": [
    "# Variables and Assignments\n",
    "- Variables represent a value\n",
    "- Mathematical expressions can be performed on the variable\n",
    "- You can define a variable using var and then the variable=the value\n",
    "- You can assign 2 objects to one variable\n",
    "- Use .append to add objects to the list\n",
    "- You break down list into other list\n",
    "- You can organize items in the lists using for loops\n",
    "- The split() method splits a string into a list. You can specify the separator, default separator is any whitespace.\n",
    "- The join() method takes all items in an iterable and joins them into one string. A string must be specified as the separator."
   ]
  }
 ],
 "metadata": {
  "kernelspec": {
   "display_name": "Python 3.9.12 ('base')",
   "language": "python",
   "name": "python3"
  },
  "language_info": {
   "name": "python",
   "version": "3.9.12"
  },
  "orig_nbformat": 4,
  "vscode": {
   "interpreter": {
    "hash": "9cd25c986c26e5b1c74a16b57d6ca17d05a872cdbfdbd78f1e395c74d1eb1581"
   }
  }
 },
 "nbformat": 4,
 "nbformat_minor": 2
}
