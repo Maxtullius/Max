{
 "cells": [
  {
   "cell_type": "markdown",
   "metadata": {},
   "source": [
    "# Technical Business Panel Notes\n",
    "---\n",
    "- title: Technical Business Panel Notes\n",
    "- toc: true\n",
    "- comments: true\n",
    "- categories: [Notebook]\n",
    "---"
   ]
  },
  {
   "cell_type": "markdown",
   "metadata": {},
   "source": [
    "### First Presenter\n",
    "- Born in Vietnam and studied abroad in Spain\n",
    "- Santa Clara University \n",
    "- Finance Major\n",
    "- Stockbroker but didn't really enjoy it\n",
    "- Worked at 3 big companies in High Tech\n",
    "- Moved to San Diego and learned to surf\n",
    "- HP Inc., Thermo Fisher Scientific, Qualcomm\n",
    "- First did financial banking and switched to High Tech\n",
    "- Worked for companies that wanted to help people"
   ]
  },
  {
   "cell_type": "markdown",
   "metadata": {},
   "source": [
    "### Second Presenter\n",
    "- Software Engineer: SRE, DevOps, Infustructure\n",
    "- Livermore High School \n",
    "- Enrolled at UCLA for Electrical Engineering\n",
    "- Center for Embedded Networked Sensors\n",
    "- Graduated from Grad school\n",
    "- System Engineer at a start up\n",
    "- NBC Universal, Streaming media infrastructure\n",
    "- Intro to DevOps, transition to Qualcommm\n",
    "- Working at Twitter\n",
    "- Continuous learning is very important when going into High Tech"
   ]
  }
 ],
 "metadata": {
  "kernelspec": {
   "display_name": "Python 3.9.12 ('base')",
   "language": "python",
   "name": "python3"
  },
  "language_info": {
   "name": "python",
   "version": "3.9.12"
  },
  "orig_nbformat": 4,
  "vscode": {
   "interpreter": {
    "hash": "9cd25c986c26e5b1c74a16b57d6ca17d05a872cdbfdbd78f1e395c74d1eb1581"
   }
  }
 },
 "nbformat": 4,
 "nbformat_minor": 2
}
