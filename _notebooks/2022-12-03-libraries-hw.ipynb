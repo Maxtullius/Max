{
 "cells": [
  {
   "attachments": {},
   "cell_type": "markdown",
   "metadata": {},
   "source": [
    "# Unit 3 Sections 14-15 Homework\n",
    "> Here are the instructions for the homework for sections 14-15.\n",
    "\n",
    "- toc: true\n",
    "- comments: true\n",
    "- categories: [Week-13,Big-Idea-3]\n",
    "- image: /images/college-board-logo.png"
   ]
  },
  {
   "attachments": {},
   "cell_type": "markdown",
   "metadata": {},
   "source": [
    "Create a program that asks the user for a day and then gives them a distance in days between that day and another random day in the year. We have provided you with a possible starter, but you are welcome to change it up if you would like."
   ]
  },
  {
   "cell_type": "code",
   "execution_count": 1,
   "metadata": {},
   "outputs": [
    {
     "name": "stdout",
     "output_type": "stream",
     "text": [
      "The number of days between 2019-07-10 and 2019-04-21 is: 80\n"
     ]
    }
   ],
   "source": [
    "import datetime\n",
    "from random import randint\n",
    "\n",
    "year = int(input(\"Enter a year: \"))\n",
    "month = int(input(\"Enter a month (1-12): \"))\n",
    "day = int(input(\"Enter a day (1-28): \"))\n",
    "\n",
    "user_date = datetime.date(year, month, day)\n",
    "\n",
    "random_date = datetime.date(year, randint(1, 12), randint(1, 28))\n",
    "\n",
    "difference = abs(random_date - user_date)\n",
    "\n",
    "print(\"The number of days between {} and {} is: {}\".format(user_date, random_date, difference.days))"
   ]
  }
 ],
 "metadata": {
  "kernelspec": {
   "display_name": "Python 3.9.12 ('base')",
   "language": "python",
   "name": "python3"
  },
  "language_info": {
   "codemirror_mode": {
    "name": "ipython",
    "version": 3
   },
   "file_extension": ".py",
   "mimetype": "text/x-python",
   "name": "python",
   "nbconvert_exporter": "python",
   "pygments_lexer": "ipython3",
   "version": "3.9.12"
  },
  "orig_nbformat": 4,
  "vscode": {
   "interpreter": {
    "hash": "9cd25c986c26e5b1c74a16b57d6ca17d05a872cdbfdbd78f1e395c74d1eb1581"
   }
  }
 },
 "nbformat": 4,
 "nbformat_minor": 2
}
