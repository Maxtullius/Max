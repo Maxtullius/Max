{
 "cells": [
  {
   "cell_type": "markdown",
   "metadata": {},
   "source": [
    "# Notebook Test\n",
    "- - -\n",
    "- title: Notebook Test\n",
    "- toc: true\n",
    "- comments: true\n",
    "- categories: [Notebook]\n",
    "- - -"
   ]
  },
  {
   "cell_type": "code",
   "execution_count": 11,
   "metadata": {},
   "outputs": [
    {
     "name": "stdout",
     "output_type": "stream",
     "text": [
      "Question: What is 1+1?\n",
      "Answer: 2\n"
     ]
    }
   ],
   "source": [
    "from ctypes.wintypes import MSG\n",
    "from email import message\n",
    "from socket import MsgFlag\n",
    "\n",
    "\n",
    "def question_answer(prompt):\n",
    "    print(\"Question: \" + prompt)\n",
    "    MSG = input(\"2\")\n",
    "    print(\"Answer: \" + MSG)\n",
    "\n",
    "\n",
    "question_answer(\"What is 1+1?\")"
   ]
  },
  {
   "cell_type": "code",
   "execution_count": 12,
   "metadata": {},
   "outputs": [
    {
     "name": "stdout",
     "output_type": "stream",
     "text": [
      "Question: When was the NFL created?\n",
      "Answer: 1920\n"
     ]
    }
   ],
   "source": [
    "def question_answer(prompt):\n",
    "    print(\"Question: \" + prompt)\n",
    "    MSG = input(\"1920\")\n",
    "    print(\"Answer: \" + MSG)\n",
    "\n",
    "\n",
    "question_answer(\"When was the NFL created?\")"
   ]
  },
  {
   "cell_type": "code",
   "execution_count": 13,
   "metadata": {},
   "outputs": [
    {
     "name": "stdout",
     "output_type": "stream",
     "text": [
      "Question: Who won the first Super Bowl?\n",
      "Answer: packers\n"
     ]
    }
   ],
   "source": [
    "def question_answer(prompt):\n",
    "    print(\"Question: \" + prompt)\n",
    "    MSG = input(\"Packers\")\n",
    "    print(\"Answer: \" + MSG)\n",
    "\n",
    "\n",
    "question_answer(\"Who won the first Super Bowl?\")"
   ]
  }
 ],
 "metadata": {
  "kernelspec": {
   "display_name": "Python 3.8.9 64-bit",
   "language": "python",
   "name": "python3"
  },
  "language_info": {
   "codemirror_mode": {
    "name": "ipython",
    "version": 3
   },
   "file_extension": ".py",
   "mimetype": "text/x-python",
   "name": "python",
   "nbconvert_exporter": "python",
   "pygments_lexer": "ipython3",
   "version": "3.8.9"
  },
  "orig_nbformat": 4,
  "vscode": {
   "interpreter": {
    "hash": "31f2aee4e71d21fbe5cf8b01ff0e069b9275f58929596ceb00d14d90e3e16cd6"
   }
  }
 },
 "nbformat": 4,
 "nbformat_minor": 2
}
