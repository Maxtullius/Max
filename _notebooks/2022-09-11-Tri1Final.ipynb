{
 "cells": [
  {
   "cell_type": "markdown",
   "metadata": {},
   "source": [
    "# Tri 1 Final Missed Questions\n",
    "\n",
    "- - -\n",
    "- title: Tri 1 Final Missed Questions\n",
    "- toc: true\n",
    "- comments: true\n",
    "- categories: [Blog]\n",
    "- - -"
   ]
  },
  {
   "cell_type": "markdown",
   "metadata": {},
   "source": [
    "# Missed Questions\n",
    "- I missed questions: 22, 26, 28, 35, 47, 48, and 49.\n",
    "- On question 22 I selected answer B. I took an estimated guess because I didn't understand or know the question. The correct answer was C.\n",
    "- On question 26 I selected answer C. I chose this answer because it seemed like the best answer to the question. The correct answer was A.\n",
    "- On question 28 I selected option D. I did this because I knew that it could not be A or B so I took the 50/50 chance and chose D. The correct answer was C.\n",
    "- On question 35 I selected options D and B. I the answer that was wrong was B. I chose B as my guess because I knew it was D and couldn't figure out what the other answer was so I took a guess. The other correct answer was A.\n",
    "- On question 47 I selected A. I misclicked and did not check over the questions. The correct answer was D.\n",
    "- On question 48 I selected B. I did this because in the code segment I saw that 50->y so without looking at the rest of the code segment. The correct answer was C.\n",
    "- On question 49 I selected D. I don't really know why I chose this answer it was mostly a guess and if I am being honest I was just trying to finsih the Final. The correct answer was C."
   ]
  }
 ],
 "metadata": {
  "kernelspec": {
   "display_name": "Python 3.9.12 ('base')",
   "language": "python",
   "name": "python3"
  },
  "language_info": {
   "name": "python",
   "version": "3.9.12"
  },
  "orig_nbformat": 4,
  "vscode": {
   "interpreter": {
    "hash": "9cd25c986c26e5b1c74a16b57d6ca17d05a872cdbfdbd78f1e395c74d1eb1581"
   }
  }
 },
 "nbformat": 4,
 "nbformat_minor": 2
}
