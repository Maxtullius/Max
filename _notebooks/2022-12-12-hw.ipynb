{
 "cells": [
  {
   "attachments": {},
   "cell_type": "markdown",
   "metadata": {},
   "source": [
    "# Unit 3 Lesson 16, Student Copy\n",
    "- toc: true\n",
    "- comments: true\n"
   ]
  },
  {
   "cell_type": "markdown",
   "metadata": {},
   "source": [
    "### Hack #1 - Class Notes\n",
    "\n",
    "Write any extra notes you have here"
   ]
  },
  {
   "cell_type": "markdown",
   "metadata": {},
   "source": [
    "# Simulations Notes\n",
    "\n",
    "- - -\n",
    "- title: Simulations Notes\n",
    "- toc: true\n",
    "- comments: true\n",
    "- categories: [Blog]\n",
    "- - -"
   ]
  },
  {
   "cell_type": "markdown",
   "metadata": {},
   "source": [
    "## Notes\n",
    "\n",
    "- The main difference between simulations and experiments is that simulations replicate real world scenarios digitally while experiments are held in the real world\n",
    "- Simulations usually are less expensive than running an experiment because the expenses needed for acquiring equipment are not present when running a simulation\n",
    "- Since experiments and done in the real world, they provide actual results while simulations use models based on collected data to provide estimations of what is expected to happen\n",
    "- Simulations can provide estimations for events that can't be recreated in the real world because simulations don't run the risk of safety issues and they can be done without equipment that would be needed for experimentation\n",
    "- Once created, simulations are easier to repeat to obtain more estimations when compared to experiments because experiments often take a long time to set up and execute\n",
    "- Simulation are a way to simulate real-world environments to test safety or logistics. It's important to use random numbers, consider biases, and consider if a simulation is the best solution.\n",
    "- When making a simulation you should consider removing details, which could be done using pseudo-random number generators, and using other ideas from previous college board lessons; like procedure, flowcharts and conditionals"
   ]
  },
  {
   "attachments": {},
   "cell_type": "markdown",
   "metadata": {},
   "source": [
    "### Hack #2 - Functions Classwork"
   ]
  },
  {
   "cell_type": "code",
   "execution_count": 94,
   "metadata": {},
   "outputs": [
    {
     "name": "stdout",
     "output_type": "stream",
     "text": [
      "closet before trashing/adding: ['red shoes', 'green pants', 'tie', 'belt']\n",
      "closet after removing an item: ['red shoes', 'green pants', 'tie']\n"
     ]
    }
   ],
   "source": [
    "import random\n",
    "otherclothes = [\"white hat\", \"blue shirt\", \"purple socks\"]\n",
    "myclothes = [\"red shoes\", \"green pants\", \"tie\", \"belt\"]\n",
    "\n",
    "def mycloset():\n",
    "    my = myclothes[(random.randint(0,(len(myclothes) - 1)))]\n",
    "    other = otherclothes[random.randint(0,(len(otherclothes) - 1))]\n",
    "    i = input(\"do you want to trash or add clothes\")\n",
    "    print(\"closet before trashing/adding: \" + str(myclothes))\n",
    "    if i == \"trash\":\n",
    "        myclothes.remove(my)\n",
    "        print(\"closet after removing an item: \" + str(myclothes))\n",
    "    elif i == \"add\":\n",
    "        myclothes.append(other)\n",
    "        print(\"closet after adding an item: \" + str(myclothes))\n",
    "    else:\n",
    "        print(\"not a valid input\")\n",
    "\n",
    "mycloset()"
   ]
  },
  {
   "cell_type": "code",
   "execution_count": 83,
   "metadata": {},
   "outputs": [
    {
     "name": "stdout",
     "output_type": "stream",
     "text": [
      "Heads\n",
      "Heads\n",
      "Heads\n",
      "Heads\n",
      "Heads\n"
     ]
    }
   ],
   "source": [
    "import random\n",
    "\n",
    "def coinflip():         #def function \n",
    "    randomflip = random.randint(0,3) #picks either 0 or 1 randomly (50/50 chance of either) \n",
    "    if randomflip == 0 or 1: #assigning 0 to be heads--> if 0 is chosen then it will print, \"Heads\"\n",
    "        print(\"Heads\")\n",
    "    else:\n",
    "        if randomflip == 2: #assigning 1 to be tails--> if 1 is chosen then it will print, \"Tails\"\n",
    "            print(\"Tails\")\n",
    "\n",
    "#Tossing the coin 5 times:\n",
    "t1 = coinflip()\n",
    "t2 = coinflip()\n",
    "t3 = coinflip()\n",
    "t4 = coinflip()\n",
    "t5 = coinflip()"
   ]
  },
  {
   "cell_type": "markdown",
   "metadata": {},
   "source": [
    "### Hack #3 - Binary Simulation Problem"
   ]
  },
  {
   "cell_type": "code",
   "execution_count": 93,
   "metadata": {},
   "outputs": [
    {
     "name": "stdout",
     "output_type": "stream",
     "text": [
      "inital survivors: ['hykeem', 'kendrick', 'don', 'travis', 'ye', 'jeffrey', 'quavo', 'offset']\n",
      "final survivors: ['kendrick', 'travis', 'jeffrey', 'offset']\n"
     ]
    }
   ],
   "source": [
    "import random\n",
    "\n",
    "dec = 0\n",
    "\n",
    "def randomnum(): # function for generating random int\n",
    "    ran = random.randint(1,255)\n",
    "    return(ran)\n",
    "\n",
    "def converttobin(n): # function for converting decimal to binary\n",
    "    bin = \"\"\n",
    "    i = 7\n",
    "\n",
    "    while i >= 0:\n",
    "        if n % (2**i) == n:\n",
    "            bin = bin + \"0\"\n",
    "            i -= 1\n",
    "        else:\n",
    "            bin = bin + \"1\"\n",
    "            n -= 2**i\n",
    "            i -= 1\n",
    "\n",
    "    return(bin)\n",
    "\n",
    "\n",
    "survivorstatus = [\"hykeem\", \"kendrick\", \"don\", \"travis\" , \"ye\", \"jeffrey\", \"quavo\", \"offset\"]\n",
    "\n",
    "def survivors(binary): # function to assign position\n",
    "    i = 0\n",
    "    print(\"inital survivors: \" + str(survivorstatus))\n",
    "    while i < len(survivorstatus):\n",
    "        if binary[i] == \"0\":\n",
    "            rem = survivorstatus[i]\n",
    "            survivorstatus.remove(rem)\n",
    "            i += 1\n",
    "        else:\n",
    "            i += 1\n",
    "    print(\"final survivors: \" + str(survivorstatus))\n",
    "\n",
    "ran1 = randomnum()\n",
    "bin1 = converttobin(ran1)\n",
    "survivors(bin1)"
   ]
  },
  {
   "cell_type": "markdown",
   "metadata": {},
   "source": [
    "### Hack #4 - Thinking through a problem\n",
    "- create your own simulation involving a dice roll\n",
    "- should include randomization and a function for rolling + multiple trials"
   ]
  },
  {
   "cell_type": "code",
   "execution_count": 7,
   "metadata": {},
   "outputs": [
    {
     "name": "stdout",
     "output_type": "stream",
     "text": [
      "1\n",
      "3\n",
      "5\n",
      "5\n"
     ]
    }
   ],
   "source": [
    "import random \n",
    "\n",
    "def roll():\n",
    "    x = random.randint(1,6)\n",
    "    return(str(x))\n",
    "\n",
    "a = roll()\n",
    "b = roll()\n",
    "c = roll()\n",
    "d = roll()\n",
    "\n",
    "print(a)\n",
    "print(b)\n",
    "print(c)\n",
    "print(d)"
   ]
  },
  {
   "attachments": {},
   "cell_type": "markdown",
   "metadata": {},
   "source": [
    "### Hack 5 - Applying your knowledge to situation based problems\n",
    "\n",
    "Using the questions bank below, create a quiz that presents the user a random question and calculates the user's score. You can use the template below or make your own. Making your own using a loop can give you extra points. "
   ]
  },
  {
   "attachments": {},
   "cell_type": "markdown",
   "metadata": {},
   "source": [
    "1. A researcher gathers data about the effect of Advanced Placement®︎ classes on students' success in college and career, and develops a simulation to show how a sequence of AP classes affect a hypothetical student's pathway.Several school administrators are concerned that the simulation contains bias favoring high-income students, however.\n",
    "    - answer options:\n",
    "        1. The simulation is an abstraction and therefore cannot contain any bias\n",
    "        2. The simulation may accidentally contain bias due to the exclusion of details.\n",
    "        3. If the simulation is found to contain bias, then it is not possible to remove the bias from the simulation.\n",
    "        4. The only way for the simulation to be biased is if the researcher intentionally used data that favored their desired output.\n",
    "2. Jack is trying to plan his financial future using an online tool. The tool starts off by asking him to input details about his current finances and career. It then lets him choose different future scenarios, such as having children. For each scenario chosen, the tool does some calculations and outputs his projected savings at the ages of 35, 45, and 55.Would that be considered a simulation and why?\n",
    "    - answer options\n",
    "        1. No, it's not a simulation because it does not include a visualization of the results.\n",
    "        2. No, it's not a simulation because it does not include all the details of his life history and the future financial environment.\n",
    "        3. Yes, it's a simulation because it runs on a computer and includes both user input and computed output.\n",
    "        4. Yes, it's a simulation because it is an abstraction of a real world scenario that enables the drawing of inferences.\n",
    "3. Sylvia is an industrial engineer working for a sporting goods company. She is developing a baseball bat that can hit balls with higher accuracy and asks their software engineering team to develop a simulation to verify the design.Which of the following details is most important to include in this simulation?\n",
    "    - answer options\n",
    "        1. Realistic sound effects based on the material of the baseball bat and the velocity of the hit\n",
    "        2. A depiction of an audience in the stands with lifelike behavior in response to hit accuracy\n",
    "        3. Accurate accounting for the effects of wind conditions on the movement of the ball\n",
    "        4. A baseball field that is textured to differentiate between the grass and the dirt\n",
    "4. Ashlynn is an industrial engineer who is trying to design a safer parachute. She creates a computer simulation of the parachute opening at different heights and in different environmental conditions.What are advantages of running the simulation versus an actual experiment?\n",
    "    - answer options\n",
    "        1. The simulation will not contain any bias that favors one body type over another, while an experiment will be biased.\n",
    "        2. The simulation can be run more safely than an actual experiment\n",
    "        3. The simulation will accurately predict the parachute's safety level, while an experiment may be inaccurate due to faulty experimental design.\n",
    "        4. The simulation can test the parachute design in a wide range of environmental conditions that may be difficult to reliably reproduce in an experiment.\n",
    "    * this question has 2 correct answers\n",
    "5. YOUR OWN QUESTION; can be situational, pseudo code based, or vocab/concept based\n",
    "6. YOUR OWN QUESTION; can be situational, pseudo code based, or vocab/concept based"
   ]
  },
  {
   "cell_type": "code",
   "execution_count": 92,
   "metadata": {},
   "outputs": [
    {
     "name": "stdout",
     "output_type": "stream",
     "text": [
      "question: A researcher gathers data about the effect of Advanced Placement classes on students' success in college and career, and develops a simulation to show how a sequence of AP classes affect a hypothetical student's pathway.Several school administrators are concerned that the simulation contains bias favoring high-income students, however.\n",
      "answer 1: The simulation is an abstraction and therefore cannot contain any bias\n",
      "answer 2: The simulation may accidentally contain bias due to the exclusion of details.\n",
      "answer 3: If the simulation is found to contain bias, then it is not possible to remove the bias from the simulation.\n",
      "answer 4: The only way for the simulation to be biased is if the researcher intentionally used data that favored their desired output.\n",
      "question: Jack is trying to plan his financial future using an online tool. The tool starts off by asking him to input details about his current finances and career. It then lets him choose different future scenarios, such as having children. For each scenario chosen, the tool does some calculations and outputs his projected savings at the ages of 35, 45, and 55.Would that be considered a simulation and why?\n",
      "answer 1: No, it's not a simulation because it does not include a visualization of the results.\n",
      "answer 2: No, it's not a simulation because it does not include all the details of his life history and the future financial environment.\n",
      "answer 3: Yes, it's a simulation because it runs on a computer and includes both user input and computed output.\n",
      "answer 4: Yes, it's a simulation because it is an abstraction of a real world scenario that enables the drawing of inferences.\n",
      "question: Sylvia is an industrial engineer working for a sporting goods company. She is developing a baseball bat that can hit balls with higher accuracy and asks their software engineering team to develop a simulation to verify the design.Which of the following details is most important to include in this simulation?\n",
      "answer 1: Realistic sound effects based on the material of the baseball bat and the velocity of the hit\n",
      "answer 2: A depiction of an audience in the stands with lifelike behavior in response to hit accuracy\n",
      "answer 3: Accurate accounting for the effects of wind conditions on the movement of the ball\n",
      "answer 4: A baseball field that is textured to differentiate between the grass and the dirt\n",
      "question: Ashlynn is an industrial engineer who is trying to design a safer parachute. She creates a computer simulation of the parachute opening at different heights and in different environmental conditions.What are advantages of running the simulation versus an actual experiment?\n",
      "answer 1: The simulation will not contain any bias that favors one body type over another, while an experiment will be biased.\n",
      "answer 2: The simulation can be run more safely than an actual experiment\n",
      "answer 3: The simulation will accurately predict the parachute's safety level, while an experiment may be inaccurate due to faulty experimental design.\n",
      "answer 4: The simulation can test the parachute design in a wide range of environmental conditions that may be difficult to reliably reproduce in an experiment.\n",
      "question: what function is used to add?\n",
      "answer 1: +\n",
      "answer 2: -\n",
      "answer 3: *\n",
      "answer 4: %\n",
      "question: what function is used to subtract?\n",
      "answer 1: -\n",
      "answer 2: +\n",
      "answer 3: *\n",
      "answer 4: /\n",
      "You failed the test with 50.0%.\n"
     ]
    }
   ],
   "source": [
    "questions = [\n",
    "    \n",
    "    ((3,0), \"A researcher gathers data about the effect of Advanced Placement classes on students' success in college and career, and develops a simulation to show how a sequence of AP classes affect a hypothetical student's pathway.Several school administrators are concerned that the simulation contains bias favoring high-income students, however.\", \n",
    "    \"The simulation is an abstraction and therefore cannot contain any bias\", \n",
    "    \"The simulation may accidentally contain bias due to the exclusion of details.\", \n",
    "    \"If the simulation is found to contain bias, then it is not possible to remove the bias from the simulation.\",\n",
    "    \"The only way for the simulation to be biased is if the researcher intentionally used data that favored their desired output.\"),\n",
    "    \n",
    "    ((4,0), \"Jack is trying to plan his financial future using an online tool. The tool starts off by asking him to input details about his current finances and career. It then lets him choose different future scenarios, such as having children. For each scenario chosen, the tool does some calculations and outputs his projected savings at the ages of 35, 45, and 55.Would that be considered a simulation and why?\",\n",
    "    \"No, it's not a simulation because it does not include a visualization of the results.\", \n",
    "    \"No, it's not a simulation because it does not include all the details of his life history and the future financial environment.\", \n",
    "    \"Yes, it's a simulation because it runs on a computer and includes both user input and computed output.\",\n",
    "    \"Yes, it's a simulation because it is an abstraction of a real world scenario that enables the drawing of inferences.\"),\n",
    "\n",
    "    ((1,0), \"Sylvia is an industrial engineer working for a sporting goods company. She is developing a baseball bat that can hit balls with higher accuracy and asks their software engineering team to develop a simulation to verify the design.Which of the following details is most important to include in this simulation?\", \n",
    "    \"Realistic sound effects based on the material of the baseball bat and the velocity of the hit\", \n",
    "    \"A depiction of an audience in the stands with lifelike behavior in response to hit accuracy\", \n",
    "    \"Accurate accounting for the effects of wind conditions on the movement of the ball\",\n",
    "    \"A baseball field that is textured to differentiate between the grass and the dirt\"),\n",
    "\n",
    "    ((2,4), \"Ashlynn is an industrial engineer who is trying to design a safer parachute. She creates a computer simulation of the parachute opening at different heights and in different environmental conditions.What are advantages of running the simulation versus an actual experiment?\", \n",
    "    \"The simulation will not contain any bias that favors one body type over another, while an experiment will be biased.\", \n",
    "    \"The simulation can be run more safely than an actual experiment\", \n",
    "    \"The simulation will accurately predict the parachute's safety level, while an experiment may be inaccurate due to faulty experimental design.\",\n",
    "    \"The simulation can test the parachute design in a wide range of environmental conditions that may be difficult to reliably reproduce in an experiment.\"),\n",
    "\n",
    "    ((1,0), \"what function is used to add?\", \n",
    "    \"+\", \n",
    "    \"-\", \n",
    "    \"*\",\n",
    "    \"%\"),\n",
    "\n",
    "    ((1,0), \"what function is used to subtract?\", \n",
    "    \"-\", \n",
    "    \"+\", \n",
    "    \"*\",\n",
    "    \"/\")\n",
    "]\n",
    "\n",
    "def questionloop(qlist):\n",
    "    score = 0\n",
    "    for sub in qlist:\n",
    "        print(\"question: \" + sub[1])\n",
    "        print(\"answer 1: \" + sub[2])\n",
    "        print(\"answer 2: \" + sub[3])\n",
    "        print(\"answer 3: \" + sub[4])\n",
    "        print(\"answer 4: \" + sub[5])\n",
    "        res = input(\"Choose an answer number: \")\n",
    "        if int(res) == sub[0][0]:\n",
    "            score += 1\n",
    "            continue\n",
    "        elif int(res) == sub[0][1]:\n",
    "            score += 1\n",
    "        else:\n",
    "            continue\n",
    "\n",
    "    percent = score * 100 / 6\n",
    "    passfail = \"\"\n",
    "\n",
    "    if percent < 70:\n",
    "        passfail = \"failed\"\n",
    "    else:\n",
    "        passfail = \"passed\"\n",
    "\n",
    "    print(\"You \" + str(passfail) + \" the test with \" + str(percent) + \"%.\")\n",
    "\n",
    "questionloop(questions)"
   ]
  },
  {
   "attachments": {},
   "cell_type": "markdown",
   "metadata": {},
   "source": [
    "### Hack #6 / Challenge - Taking real life problems and implementing them into code"
   ]
  },
  {
   "attachments": {},
   "cell_type": "markdown",
   "metadata": {},
   "source": [
    "Create your own simulation based on your experiences/knowledge!\n",
    "Be creative! Think about instances in your own life, science, puzzles that can be made into simulations\n",
    "\n",
    "Some ideas to get your brain running: A simulation that breeds two plants and tells you phenotypes of offspring, an adventure simulation..."
   ]
  },
  {
   "cell_type": "code",
   "execution_count": 103,
   "metadata": {},
   "outputs": [
    {
     "name": "stdout",
     "output_type": "stream",
     "text": [
      "The offspring has a None phenotype.\n"
     ]
    }
   ],
   "source": [
    "import random\n",
    "\n",
    "genotypes = [\"RR\", \"Rr\", \"rr\"]\n",
    "\n",
    "def breed(parent1, parent2):\n",
    "  genotype1 = random.choice(parent1)\n",
    "  genotype2 = random.choice(parent2)\n",
    "  \n",
    "  offspring_genotype = genotype1 + genotype2\n",
    "\n",
    "  return offspring_genotype\n",
    "\n",
    "def determine_phenotype(genotype):\n",
    "  if genotype == \"RR\" or genotype == \"Rr\":\n",
    "    return \"red\"\n",
    "  elif genotype == \"rr\":\n",
    "    return \"white\"\n",
    "\n",
    "parent1 = [\"RR\", \"Rr\"]\n",
    "parent2 = [\"RR\", \"rr\"]\n",
    "\n",
    "offspring_genotype = breed(parent1, parent2)\n",
    "\n",
    "offspring_phenotype = determine_phenotype(offspring_genotype)\n",
    "\n",
    "print(f\"The offspring has a {offspring_phenotype} phenotype.\")"
   ]
  }
 ],
 "metadata": {
  "kernelspec": {
   "display_name": "Python 3.9.12 ('base')",
   "language": "python",
   "name": "python3"
  },
  "language_info": {
   "codemirror_mode": {
    "name": "ipython",
    "version": 3
   },
   "file_extension": ".py",
   "mimetype": "text/x-python",
   "name": "python",
   "nbconvert_exporter": "python",
   "pygments_lexer": "ipython3",
   "version": "3.9.12"
  },
  "orig_nbformat": 4,
  "vscode": {
   "interpreter": {
    "hash": "9cd25c986c26e5b1c74a16b57d6ca17d05a872cdbfdbd78f1e395c74d1eb1581"
   }
  }
 },
 "nbformat": 4,
 "nbformat_minor": 2
}
