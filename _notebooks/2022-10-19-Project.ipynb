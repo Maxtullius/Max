{
 "cells": [
  {
   "cell_type": "markdown",
   "metadata": {},
   "source": [
    "# Project Plan\n",
    "## Main Function \n",
    "- Our final project will be a website that will be a webstie that will be a website that will help people create music playlists. We will have different genres represented by diferent html tabs at the top of our blog. When these are clicked there will be links to the different posts. These posts will be different artists and there will be a paragraph to describe them. Then we will put some of the most popular songs by these artist. We wil also add who these artists are similar to and what songs are similar to each other.\n",
    "## Outline\n",
    "- We will begin with creating the html tabs of the different genres. We will be doing, rap, rock, country, and pop. We will add the history of this genre and what it sounds like. There will be a summery of why someone might like it.\n",
    "- We will then create the posts of the artists. We will make sure to add at least 5 artists to each genre. We wil add their backstory and what their music sounds like. we will also add what other artists they sound like.\n",
    "- Then we will ads the songs of each of these artists. 5 songs per artist. A total of 100 songs will be added. We will also right similar songs t these.\n",
    "## College Board Criteria \n",
    "- Row 1: Program Purpose and Function. The purpose of the website will be to create a playlist. The functin will be different posts create and html tabs that are linked to these.\n",
    "- Row 2: Data Abstraction. We will be able to explain the variables of artists, songs, and genres.\n",
    "- Row 3: Managing Complexity. If we run into problems we will ask each other questions.\n",
    "- Row 4: Procedural Abstraction. We will understand our process nd manage our time well.\n",
    "- Row 5: Algorithm Implementation. Organizign by genre, artist, and songs will show this.\n",
    "- Row 6: Testing. Testing will occur after we create the webstie. We will make sure every page is running well."
   ]
  }
 ],
 "metadata": {
  "kernelspec": {
   "display_name": "Python 3.9.12 ('base')",
   "language": "python",
   "name": "python3"
  },
  "language_info": {
   "name": "python",
   "version": "3.9.12"
  },
  "orig_nbformat": 4,
  "vscode": {
   "interpreter": {
    "hash": "9cd25c986c26e5b1c74a16b57d6ca17d05a872cdbfdbd78f1e395c74d1eb1581"
   }
  }
 },
 "nbformat": 4,
 "nbformat_minor": 2
}
