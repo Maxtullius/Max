{
 "cells": [
  {
   "cell_type": "markdown",
   "metadata": {},
   "source": [
    "# Guides for Review\n",
    "\n",
    "- - -\n",
    "- title: Guides for Review\n",
    "- toc: true\n",
    "- comments: true\n",
    "- categories: [Blog]\n",
    "- - -"
   ]
  },
  {
   "cell_type": "markdown",
   "metadata": {},
   "source": [
    "## Tips for Frontend\n",
    "- Try to make your code as simple as possible. Make sure there is nothing in there that is not needed.\n",
    "- Make sure that your sites theme is amusing so that it can draw users onto your site.\n",
    "- Try to make your site interactive for the user. This is so that the users stays on the site and enjoys it much more.\n",
    "- When coding your frontend make it nice and professional. You do not want your code to look weird on the screen. It will appeal much better to the user if the code looks professional and is not crazy/all over the place."
   ]
  },
  {
   "cell_type": "markdown",
   "metadata": {},
   "source": [
    "## Tips for Backend\n",
    "- Again for backend try to keep it simple and clean. This is because if you have an error its much easier to find with clean code than code that is scattered. You also want this because you don't want to have non-needed code. \n",
    "- TESTING! Testing is very important because backend is very fragile. It can work for one minute and then doing one thing could stop it from working the way you want. Use local servers or the group server to test. Make sure to test a lot.\n",
    "- Going over your work is also very important. This is because you could have one single small mistake that may not change much, but you always want your code to be at its full potential and keeping a small mistake that is easy fix doesn't allow you to do that."
   ]
  },
  {
   "cell_type": "markdown",
   "metadata": {},
   "source": [
    "## Team/Individual\n",
    "- Never Give Up! I'm gonna be honest, right now I am sitting on my bed at exactly 1:23 am trying to do what I can. I have been trying to do the same thing for about 2 or 3 weeks. I asked questions to my peers, stayed on task, and worked outside of school(during break a lot). I may have not got everything done, but its good to know that I tried and gave my full effort.\n",
    "- Communication and Teamwork. These are very important to your success in a group. Some people have better skills than others in certain areas, you have to use these teammates to your advantage. ALWAYS ASK QUESTION! NO QUESTION IS STUPID!"
   ]
  }
 ],
 "metadata": {
  "kernelspec": {
   "display_name": "Python 3.9.12 ('base')",
   "language": "python",
   "name": "python3"
  },
  "language_info": {
   "name": "python",
   "version": "3.9.12"
  },
  "orig_nbformat": 4,
  "vscode": {
   "interpreter": {
    "hash": "9cd25c986c26e5b1c74a16b57d6ca17d05a872cdbfdbd78f1e395c74d1eb1581"
   }
  }
 },
 "nbformat": 4,
 "nbformat_minor": 2
}
