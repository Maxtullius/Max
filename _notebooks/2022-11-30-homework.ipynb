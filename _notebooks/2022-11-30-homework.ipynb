{
 "cells": [
  {
   "cell_type": "markdown",
   "metadata": {},
   "source": [
    "# Homework \n",
    "\n",
    "- toc: true\n",
    "- badges: true\n",
    "- comments: true\n",
    "- categories: [Week 13]"
   ]
  },
  {
   "cell_type": "markdown",
   "metadata": {},
   "source": [
    "# Notes\n",
    "- Nested Conditional Statements consist of conditional statemetns within conditional statements.\n",
    "- If Else Statements can be put inside of another if else statement using this layout for psuedo code.\n",
    "- algorithm - A set of instructions that accomplish a task.\n",
    "- selection - The process that determines which parts of an algoritm is being executed based on a condition that is true or false.\n",
    "- A conditional is a statement that affects the flow/outcome of a program by executing different statements based on the result of a true or false statement. That true or false statement is a boolean expression.\n",
    "- In almost every programming language, if/else statements fill in the role of the conditional. Some languages call this switch blocks but if/else is the most used term."
   ]
  },
  {
   "cell_type": "markdown",
   "metadata": {},
   "source": [
    "## Homework/Hacks\n",
    "\n",
    " our homework we have decided for a decimal number to binary converter. You must use conditional statements within your code and have a input box for where the decimal number will go. This will give you a 2.7 out of 3 and you may add anything else to the code to get above a 2.7.\n",
    "\n"
   ]
  },
  {
   "cell_type": "markdown",
   "metadata": {},
   "source": [
    "Below is an example of decimal number to binary converter which you can use as a starting template."
   ]
  },
  {
   "cell_type": "code",
   "execution_count": 1,
   "metadata": {},
   "outputs": [
    {
     "name": "stdout",
     "output_type": "stream",
     "text": [
      "01000011\n"
     ]
    }
   ],
   "source": [
    "\n",
    "decimal = int(input(\"pick a number\"))\n",
    "def convert(dec):\n",
    "    bin = \"\"\n",
    "    i = 7\n",
    "\n",
    "    while i >= 0:\n",
    "        if dec % (2**i) == dec:\n",
    "            bin = bin + \"0\"\n",
    "            i -= 1\n",
    "        else:\n",
    "            bin = bin + \"1\"\n",
    "            dec -= 2**i\n",
    "            i -= 1\n",
    "\n",
    "    print(bin)\n",
    "\n",
    "convert(decimal)"
   ]
  }
 ],
 "metadata": {
  "kernelspec": {
   "display_name": "Python 3.9.6 64-bit",
   "language": "python",
   "name": "python3"
  },
  "language_info": {
   "codemirror_mode": {
    "name": "ipython",
    "version": 3
   },
   "file_extension": ".py",
   "mimetype": "text/x-python",
   "name": "python",
   "nbconvert_exporter": "python",
   "pygments_lexer": "ipython3",
   "version": "3.8.9"
  },
  "orig_nbformat": 4,
  "vscode": {
   "interpreter": {
    "hash": "31f2aee4e71d21fbe5cf8b01ff0e069b9275f58929596ceb00d14d90e3e16cd6"
   }
  }
 },
 "nbformat": 4,
 "nbformat_minor": 2
}
