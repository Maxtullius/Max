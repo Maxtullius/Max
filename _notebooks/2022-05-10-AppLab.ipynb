{
 "cells": [
  {
   "cell_type": "markdown",
   "metadata": {},
   "source": [
    "# App Lab Notes\n",
    "\n",
    "- - -\n",
    "- title: App Lab Notes\n",
    "- toc: true\n",
    "- comments: true\n",
    "- categories: [Blog]\n",
    "- - -"
   ]
  },
  {
   "cell_type": "markdown",
   "metadata": {},
   "source": [
    "# Notes\n",
    "- My test is about the NFL\n",
    "- For everything you put you need event\n",
    "- Use a playspeech bar in event for wrong answers\n",
    "- When the question is answered you have to use the setscreen command to go to the next question\n",
    "\n",
    "# My Quiz\n",
    "- https://studio.code.org/projects/applab/xLIAqcPGXDiH_RvTNshZYcz_WuaeP7Q6K_t976Xw2zw\n",
    "\n",
    "# Issues\n",
    "- I couldn't figure out how to make the sound go off per button but then I needed to add the event with play speech\n"
   ]
  }
 ],
 "metadata": {
  "kernelspec": {
   "display_name": "Python 3.9.12 ('base')",
   "language": "python",
   "name": "python3"
  },
  "language_info": {
   "codemirror_mode": {
    "name": "ipython",
    "version": 3
   },
   "file_extension": ".py",
   "mimetype": "text/x-python",
   "name": "python",
   "nbconvert_exporter": "python",
   "pygments_lexer": "ipython3",
   "version": "3.9.12"
  },
  "orig_nbformat": 4,
  "vscode": {
   "interpreter": {
    "hash": "9cd25c986c26e5b1c74a16b57d6ca17d05a872cdbfdbd78f1e395c74d1eb1581"
   }
  }
 },
 "nbformat": 4,
 "nbformat_minor": 2
}
