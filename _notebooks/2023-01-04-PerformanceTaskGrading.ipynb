{
 "cells": [
  {
   "cell_type": "markdown",
   "metadata": {},
   "source": [
    "# Performance Task Grades\n",
    "\n",
    "- - -\n",
    "- title: Performance Task Grades\n",
    "- toc: true\n",
    "- comments: true\n",
    "- categories: [Blog]\n",
    "- - -"
   ]
  },
  {
   "cell_type": "markdown",
   "metadata": {},
   "source": [
    "## Submission 1\n",
    "- Row 1:\n",
    "    - 1/1\n",
    "    - Everything on the rubric is shown on the document and the information on the document decribes what is needed to be described in the video.\n",
    "- Row 2:\n",
    "    - 1/1\n",
    "    - There were two code segments. One that shows how the data was stored and the other showing the data being used to complete the program's purpose. They identified the variable representing the list and described what the data in the list contained.\n",
    "- Row 3:\n",
    "    - 0/1\n",
    "    - The code segment given was not being used to manage the complexity because the code segment is irrelevant.\n",
    "- Row 4:\n",
    "    - 1/1\n",
    "    - There are two program code segments. One showing a student-developed procedure with at least one parameter that has an effect on the functionality and the other showing where the student-developed procedure is being called. They describe what the identified procedure does and how it contributes to the overall functionality.\n",
    "- Row 5:\n",
    "    - 1/1\n",
    "    - The codes employs sequencing, iteration, and selection techniques while also satisfying the other requirements. \n",
    "- Row 6:\n",
    "    - 1/1\n",
    "    - The code recognizes the results, calls the ratioCalculate function twice, and verifies the values of ABC.\n"
   ]
  },
  {
   "cell_type": "markdown",
   "metadata": {},
   "source": [
    "# Submission 2\n",
    "\n",
    "- Row 1:\n",
    "    - 1/1\n",
    "    - The statement demonstrates the input, output, and explains the purpose and functionality of the code.\n",
    "- Row 2:\n",
    "    - 0/1\n",
    "    - The code does not adequately demonstrate the storing and use of data and fails to meet the requirements for naming variables.\n",
    "- Row 3:\n",
    "    - 1/1\n",
    "    - The list function was effective and the code effectively explained how it managed complexity.\n",
    "- Row 4: \n",
    "    - 1/1\n",
    "    - The statement describes and illustrates the use of both code segments.\n",
    "- Row 5:\n",
    "    - 1/1\n",
    "    - The self-created algorithm employs iteration, selection, and sequencing techniques.\n",
    "- Row 6\n",
    "    - 1/1\n",
    "    - The statement describes and identifies the results and segments of the code."
   ]
  }
 ],
 "metadata": {
  "kernelspec": {
   "display_name": "Python 3.9.12 ('base')",
   "language": "python",
   "name": "python3"
  },
  "language_info": {
   "name": "python",
   "version": "3.9.12"
  },
  "orig_nbformat": 4,
  "vscode": {
   "interpreter": {
    "hash": "9cd25c986c26e5b1c74a16b57d6ca17d05a872cdbfdbd78f1e395c74d1eb1581"
   }
  }
 },
 "nbformat": 4,
 "nbformat_minor": 2
}
